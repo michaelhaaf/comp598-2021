{
 "cells": [
  {
   "cell_type": "code",
   "execution_count": 30,
   "id": "82e8e323",
   "metadata": {},
   "outputs": [],
   "source": [
    "# Create a Jupyter notebook in which you have loaded the data file you trimmed (mentioned above) and printed\n",
    "# out the number of distinct zipcodes in the dataset.\n",
    "\n",
    "import os, sys\n",
    "import pandas as pd\n",
    "\n",
    "df = pd.read_csv('nyc_311_limit-trimmed.csv', header=None, low_memory=False)"
   ]
  },
  {
   "cell_type": "code",
   "execution_count": 55,
   "id": "75012a8a",
   "metadata": {},
   "outputs": [
    {
     "name": "stdout",
     "output_type": "stream",
     "text": [
      "Number of unique zips: 236\n"
     ]
    }
   ],
   "source": [
    "import numpy as np\n",
    "\n",
    "zip_code_column = 8\n",
    "unique_zips = df.iloc[:, zip_code_column].unique()\n",
    "unique_zips = unique_zips[~np.isnan(unique_zips)]\n",
    "print(f\"Number of unique zips: {np.size(unique_zips)}\", file=sys.stdout)"
   ]
  }
 ],
 "metadata": {
  "kernelspec": {
   "display_name": "Python 3 (ipykernel)",
   "language": "python",
   "name": "python3"
  },
  "language_info": {
   "codemirror_mode": {
    "name": "ipython",
    "version": 3
   },
   "file_extension": ".py",
   "mimetype": "text/x-python",
   "name": "python",
   "nbconvert_exporter": "python",
   "pygments_lexer": "ipython3",
   "version": "3.9.5"
  }
 },
 "nbformat": 4,
 "nbformat_minor": 5
}
